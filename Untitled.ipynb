{
 "cells": [
  {
   "cell_type": "code",
   "execution_count": null,
   "metadata": {},
   "outputs": [
    {
     "name": "stderr",
     "output_type": "stream",
     "text": [
      "/Library/Frameworks/Python.framework/Versions/3.6/lib/python3.6/site-packages/h5py/__init__.py:36: FutureWarning: Conversion of the second argument of issubdtype from `float` to `np.floating` is deprecated. In future, it will be treated as `np.float64 == np.dtype(float).type`.\n",
      "  from ._conv import register_converters as _register_converters\n",
      "Using TensorFlow backend.\n",
      "/Users/lahari/Desktop/mini/Plant-Disease-Detection/Web SRC/algo.py:27: UserWarning: Update your `Conv2D` call to the Keras 2 API: `Conv2D(64, (3, 3), activation=\"relu\", name=\"conv1_1\")`\n",
      "  model.add(Convolution2D(64, 3, 3, activation='relu', name='conv1_1'))\n",
      "/Users/lahari/Desktop/mini/Plant-Disease-Detection/Web SRC/algo.py:29: UserWarning: Update your `Conv2D` call to the Keras 2 API: `Conv2D(64, (3, 3), activation=\"relu\", name=\"conv1_2\")`\n",
      "  model.add(Convolution2D(64, 3, 3, activation='relu', name='conv1_2'))\n",
      "/Users/lahari/Desktop/mini/Plant-Disease-Detection/Web SRC/algo.py:33: UserWarning: Update your `Conv2D` call to the Keras 2 API: `Conv2D(128, (3, 3), activation=\"relu\", name=\"conv2_1\")`\n",
      "  model.add(Convolution2D(128, 3, 3, activation='relu', name='conv2_1'))\n",
      "/Users/lahari/Desktop/mini/Plant-Disease-Detection/Web SRC/algo.py:35: UserWarning: Update your `Conv2D` call to the Keras 2 API: `Conv2D(128, (3, 3), activation=\"relu\", name=\"conv2_2\")`\n",
      "  model.add(Convolution2D(128, 3, 3, activation='relu', name='conv2_2'))\n",
      "/Users/lahari/Desktop/mini/Plant-Disease-Detection/Web SRC/algo.py:39: UserWarning: Update your `Conv2D` call to the Keras 2 API: `Conv2D(256, (3, 3), activation=\"relu\", name=\"conv3_1\")`\n",
      "  model.add(Convolution2D(256, 3, 3, activation='relu', name='conv3_1'))\n",
      "/Users/lahari/Desktop/mini/Plant-Disease-Detection/Web SRC/algo.py:41: UserWarning: Update your `Conv2D` call to the Keras 2 API: `Conv2D(256, (3, 3), activation=\"relu\", name=\"conv3_2\")`\n",
      "  model.add(Convolution2D(256, 3, 3, activation='relu', name='conv3_2'))\n",
      "/Users/lahari/Desktop/mini/Plant-Disease-Detection/Web SRC/algo.py:43: UserWarning: Update your `Conv2D` call to the Keras 2 API: `Conv2D(256, (3, 3), activation=\"relu\", name=\"conv3_3\")`\n",
      "  model.add(Convolution2D(256, 3, 3, activation='relu', name='conv3_3'))\n",
      "/Users/lahari/Desktop/mini/Plant-Disease-Detection/Web SRC/algo.py:47: UserWarning: Update your `Conv2D` call to the Keras 2 API: `Conv2D(512, (3, 3), activation=\"relu\", name=\"conv4_1\")`\n",
      "  model.add(Convolution2D(512, 3, 3, activation='relu', name='conv4_1'))\n",
      "/Users/lahari/Desktop/mini/Plant-Disease-Detection/Web SRC/algo.py:49: UserWarning: Update your `Conv2D` call to the Keras 2 API: `Conv2D(512, (3, 3), activation=\"relu\", name=\"conv4_2\")`\n",
      "  model.add(Convolution2D(512, 3, 3, activation='relu', name='conv4_2'))\n",
      "/Users/lahari/Desktop/mini/Plant-Disease-Detection/Web SRC/algo.py:51: UserWarning: Update your `Conv2D` call to the Keras 2 API: `Conv2D(512, (3, 3), activation=\"relu\", name=\"conv4_3\")`\n",
      "  model.add(Convolution2D(512, 3, 3, activation='relu', name='conv4_3'))\n",
      "/Users/lahari/Desktop/mini/Plant-Disease-Detection/Web SRC/algo.py:55: UserWarning: Update your `Conv2D` call to the Keras 2 API: `Conv2D(512, (3, 3), activation=\"relu\", name=\"conv5_1\")`\n",
      "  model.add(Convolution2D(512, 3, 3, activation='relu', name='conv5_1'))\n",
      "/Users/lahari/Desktop/mini/Plant-Disease-Detection/Web SRC/algo.py:57: UserWarning: Update your `Conv2D` call to the Keras 2 API: `Conv2D(512, (3, 3), activation=\"relu\", name=\"conv5_2\")`\n",
      "  model.add(Convolution2D(512, 3, 3, activation='relu', name='conv5_2'))\n",
      "/Users/lahari/Desktop/mini/Plant-Disease-Detection/Web SRC/algo.py:59: UserWarning: Update your `Conv2D` call to the Keras 2 API: `Conv2D(512, (3, 3), activation=\"relu\", name=\"conv5_3\")`\n",
      "  model.add(Convolution2D(512, 3, 3, activation='relu', name='conv5_3'))\n",
      " * Running on http://0.0.0.0:5000/ (Press CTRL+C to quit)\n",
      "127.0.0.1 - - [21/Mar/2018 15:08:36] \"\u001b[37mGET / HTTP/1.1\u001b[0m\" 200 -\n",
      "127.0.0.1 - - [21/Mar/2018 15:58:04] \"\u001b[37mGET / HTTP/1.1\u001b[0m\" 200 -\n",
      "127.0.0.1 - - [21/Mar/2018 15:58:04] \"\u001b[37mGET /static/style.css HTTP/1.1\u001b[0m\" 200 -\n",
      "127.0.0.1 - - [21/Mar/2018 15:58:04] \"\u001b[37mGET /static/app.js HTTP/1.1\u001b[0m\" 200 -\n",
      "127.0.0.1 - - [21/Mar/2018 16:03:33] \"\u001b[37mGET / HTTP/1.1\u001b[0m\" 200 -\n"
     ]
    }
   ],
   "source": [
    "%run server.py"
   ]
  },
  {
   "cell_type": "code",
   "execution_count": null,
   "metadata": {},
   "outputs": [],
   "source": []
  },
  {
   "cell_type": "code",
   "execution_count": null,
   "metadata": {},
   "outputs": [],
   "source": []
  },
  {
   "cell_type": "code",
   "execution_count": null,
   "metadata": {},
   "outputs": [],
   "source": []
  }
 ],
 "metadata": {
  "kernelspec": {
   "display_name": "Python 3",
   "language": "python",
   "name": "python3"
  },
  "language_info": {
   "codemirror_mode": {
    "name": "ipython",
    "version": 3
   },
   "file_extension": ".py",
   "mimetype": "text/x-python",
   "name": "python",
   "nbconvert_exporter": "python",
   "pygments_lexer": "ipython3",
   "version": "3.6.4"
  }
 },
 "nbformat": 4,
 "nbformat_minor": 2
}
